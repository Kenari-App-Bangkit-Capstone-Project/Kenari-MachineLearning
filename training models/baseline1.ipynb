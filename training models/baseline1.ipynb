{
  "cells": [
    {
      "cell_type": "markdown",
      "metadata": {
        "id": "VPW4wb2VNwer"
      },
      "source": []
    },
    {
      "cell_type": "code",
      "execution_count": 1,
      "metadata": {
        "colab": {
          "base_uri": "https://localhost:8080/"
        },
        "id": "RENnySalNweu",
        "outputId": "1b1e88c1-a189-41c7-e684-32f68f7a7e19"
      },
      "outputs": [
        {
          "output_type": "stream",
          "name": "stdout",
          "text": [
            "   Unnamed: 0       tag                  patterns  \\\n",
            "0           0  greeting                        Hi   \n",
            "1           1  greeting                       Hey   \n",
            "2           2  greeting  Apakah ada orang disana?   \n",
            "3           3  greeting                      Halo   \n",
            "4           4  greeting                     Hello   \n",
            "\n",
            "                                           responses  \n",
            "0  ['Halo. Ceritakan bagaimana perasaan Anda hari...  \n",
            "1  ['Halo. Ceritakan bagaimana perasaan Anda hari...  \n",
            "2  ['Halo. Ceritakan bagaimana perasaan Anda hari...  \n",
            "3  ['Halo. Ceritakan bagaimana perasaan Anda hari...  \n",
            "4  ['Halo. Ceritakan bagaimana perasaan Anda hari...  \n"
          ]
        }
      ],
      "source": [
        "import pandas as pd\n",
        "\n",
        "# Baca data dari file CSV\n",
        "df = pd.read_csv('mntl.csv')\n",
        "\n",
        "# Tampilkan dataframe\n",
        "print(df.head())\n"
      ]
    },
    {
      "cell_type": "code",
      "execution_count": 2,
      "metadata": {
        "id": "ZMW3c1OPNwex"
      },
      "outputs": [],
      "source": [
        "from tensorflow.keras.preprocessing.text import Tokenizer\n",
        "from tensorflow.keras.preprocessing.sequence import pad_sequences\n",
        "from sklearn.preprocessing import LabelEncoder\n",
        "\n",
        "# Convert 'patterns' column to strings\n",
        "df['patterns'] = df['patterns'].astype(str)\n",
        "\n",
        "# Tokenisasi dan pad sequences\n",
        "tokenizer = Tokenizer(lower=True, split=' ')\n",
        "tokenizer.fit_on_texts(df['patterns'])\n",
        "vacab_size = len(tokenizer.word_index)\n",
        "\n",
        "ptrn2seq = tokenizer.texts_to_sequences(df['patterns'])\n",
        "X = pad_sequences(ptrn2seq, padding='post')\n",
        "\n",
        "# Label encoding untuk variabel target\n",
        "lbl_enc = LabelEncoder()\n",
        "y = lbl_enc.fit_transform(df['tag'])"
      ]
    },
    {
      "cell_type": "code",
      "execution_count": 8,
      "metadata": {
        "colab": {
          "base_uri": "https://localhost:8080/"
        },
        "id": "SUti83mbNwez",
        "outputId": "feb18f73-76bf-4fea-b673-b6be11746a2e"
      },
      "outputs": [
        {
          "output_type": "stream",
          "name": "stdout",
          "text": [
            "Epoch 1/50\n",
            "32/32 [==============================] - 11s 38ms/step - loss: 5.0003 - accuracy: 0.0257\n",
            "Epoch 2/50\n",
            "32/32 [==============================] - 2s 69ms/step - loss: 4.6729 - accuracy: 0.0289\n",
            "Epoch 3/50\n",
            "32/32 [==============================] - 2s 73ms/step - loss: 4.5165 - accuracy: 0.0257\n",
            "Epoch 4/50\n",
            "32/32 [==============================] - 2s 76ms/step - loss: 4.4955 - accuracy: 0.0161\n",
            "Epoch 5/50\n",
            "32/32 [==============================] - 1s 38ms/step - loss: 4.3456 - accuracy: 0.0418\n",
            "Epoch 6/50\n",
            "32/32 [==============================] - 2s 54ms/step - loss: 4.1795 - accuracy: 0.0450\n",
            "Epoch 7/50\n",
            "32/32 [==============================] - 2s 57ms/step - loss: 4.0724 - accuracy: 0.0579\n",
            "Epoch 8/50\n",
            "32/32 [==============================] - 2s 50ms/step - loss: 3.9382 - accuracy: 0.0547\n",
            "Epoch 9/50\n",
            "32/32 [==============================] - 1s 37ms/step - loss: 3.7965 - accuracy: 0.0611\n",
            "Epoch 10/50\n",
            "32/32 [==============================] - 1s 38ms/step - loss: 3.5296 - accuracy: 0.1061\n",
            "Epoch 11/50\n",
            "32/32 [==============================] - 1s 39ms/step - loss: 3.4434 - accuracy: 0.1061\n",
            "Epoch 12/50\n",
            "32/32 [==============================] - 1s 38ms/step - loss: 3.2429 - accuracy: 0.1286\n",
            "Epoch 13/50\n",
            "32/32 [==============================] - 1s 39ms/step - loss: 3.0367 - accuracy: 0.1640\n",
            "Epoch 14/50\n",
            "32/32 [==============================] - 1s 38ms/step - loss: 2.8578 - accuracy: 0.2347\n",
            "Epoch 15/50\n",
            "32/32 [==============================] - 1s 37ms/step - loss: 2.6174 - accuracy: 0.2637\n",
            "Epoch 16/50\n",
            "32/32 [==============================] - 1s 41ms/step - loss: 2.4539 - accuracy: 0.2862\n",
            "Epoch 17/50\n",
            "32/32 [==============================] - 2s 61ms/step - loss: 2.1646 - accuracy: 0.3891\n",
            "Epoch 18/50\n",
            "32/32 [==============================] - 2s 58ms/step - loss: 2.0120 - accuracy: 0.3955\n",
            "Epoch 19/50\n",
            "32/32 [==============================] - 1s 39ms/step - loss: 1.9418 - accuracy: 0.4341\n",
            "Epoch 20/50\n",
            "32/32 [==============================] - 1s 38ms/step - loss: 1.7441 - accuracy: 0.4855\n",
            "Epoch 21/50\n",
            "32/32 [==============================] - 1s 37ms/step - loss: 1.6781 - accuracy: 0.5177\n",
            "Epoch 22/50\n",
            "32/32 [==============================] - 1s 38ms/step - loss: 1.5694 - accuracy: 0.5434\n",
            "Epoch 23/50\n",
            "32/32 [==============================] - 1s 39ms/step - loss: 1.3828 - accuracy: 0.5756\n",
            "Epoch 24/50\n",
            "32/32 [==============================] - 1s 40ms/step - loss: 1.1452 - accuracy: 0.6945\n",
            "Epoch 25/50\n",
            "32/32 [==============================] - 1s 39ms/step - loss: 1.0831 - accuracy: 0.6817\n",
            "Epoch 26/50\n",
            "32/32 [==============================] - 1s 39ms/step - loss: 0.9255 - accuracy: 0.7814\n",
            "Epoch 27/50\n",
            "32/32 [==============================] - 2s 54ms/step - loss: 0.8488 - accuracy: 0.7588\n",
            "Epoch 28/50\n",
            "32/32 [==============================] - 2s 56ms/step - loss: 0.8260 - accuracy: 0.7781\n",
            "Epoch 29/50\n",
            "32/32 [==============================] - 2s 53ms/step - loss: 0.6857 - accuracy: 0.8199\n",
            "Epoch 30/50\n",
            "32/32 [==============================] - 1s 38ms/step - loss: 0.6694 - accuracy: 0.8328\n",
            "Epoch 31/50\n",
            "32/32 [==============================] - 1s 37ms/step - loss: 0.5605 - accuracy: 0.8714\n",
            "Epoch 32/50\n",
            "32/32 [==============================] - 1s 39ms/step - loss: 0.6026 - accuracy: 0.8778\n",
            "Epoch 33/50\n",
            "32/32 [==============================] - 1s 38ms/step - loss: 0.5507 - accuracy: 0.8714\n",
            "Epoch 34/50\n",
            "32/32 [==============================] - 1s 37ms/step - loss: 0.4735 - accuracy: 0.9035\n",
            "Epoch 35/50\n",
            "32/32 [==============================] - 1s 37ms/step - loss: 0.4072 - accuracy: 0.9164\n",
            "Epoch 36/50\n",
            "32/32 [==============================] - 1s 39ms/step - loss: 0.3181 - accuracy: 0.9453\n",
            "Epoch 37/50\n",
            "32/32 [==============================] - 1s 39ms/step - loss: 0.2658 - accuracy: 0.9421\n",
            "Epoch 38/50\n",
            "32/32 [==============================] - 2s 59ms/step - loss: 0.2764 - accuracy: 0.9325\n",
            "Epoch 39/50\n",
            "32/32 [==============================] - 2s 59ms/step - loss: 0.4672 - accuracy: 0.8875\n",
            "Epoch 40/50\n",
            "32/32 [==============================] - 1s 46ms/step - loss: 0.3469 - accuracy: 0.9260\n",
            "Epoch 41/50\n",
            "32/32 [==============================] - 1s 43ms/step - loss: 0.2668 - accuracy: 0.9486\n",
            "Epoch 42/50\n",
            "32/32 [==============================] - 1s 37ms/step - loss: 0.2488 - accuracy: 0.9486\n",
            "Epoch 43/50\n",
            "32/32 [==============================] - 1s 38ms/step - loss: 0.2130 - accuracy: 0.9646\n",
            "Epoch 44/50\n",
            "32/32 [==============================] - 1s 37ms/step - loss: 0.1795 - accuracy: 0.9678\n",
            "Epoch 45/50\n",
            "32/32 [==============================] - 1s 38ms/step - loss: 0.1840 - accuracy: 0.9646\n",
            "Epoch 46/50\n",
            "32/32 [==============================] - 1s 38ms/step - loss: 0.1228 - accuracy: 0.9807\n",
            "Epoch 47/50\n",
            "32/32 [==============================] - 1s 38ms/step - loss: 0.1281 - accuracy: 0.9904\n",
            "Epoch 48/50\n",
            "32/32 [==============================] - 2s 50ms/step - loss: 0.1154 - accuracy: 0.9839\n",
            "Epoch 49/50\n",
            "32/32 [==============================] - 2s 59ms/step - loss: 0.1065 - accuracy: 0.9839\n",
            "Epoch 50/50\n",
            "32/32 [==============================] - 2s 55ms/step - loss: 0.2287 - accuracy: 0.9518\n"
          ]
        },
        {
          "output_type": "execute_result",
          "data": {
            "text/plain": [
              "<keras.src.callbacks.History at 0x7d86acaebfa0>"
            ]
          },
          "metadata": {},
          "execution_count": 8
        }
      ],
      "source": [
        "from tensorflow.keras.models import Sequential\n",
        "from tensorflow.keras.layers import Input, Embedding, LSTM, LayerNormalization, Dense, Dropout\n",
        "import numpy as np\n",
        "\n",
        "model = Sequential()\n",
        "model.add(Input(shape=(X.shape[1],)))  # Fix: Added comma in the shape tuple\n",
        "\n",
        "# Embedding layer\n",
        "model.add(Embedding(input_dim=vacab_size + 1, output_dim=100))\n",
        "\n",
        "# LSTM layers\n",
        "model.add(LSTM(32, return_sequences=True))\n",
        "model.add(LayerNormalization())\n",
        "model.add(LSTM(32, return_sequences=True))\n",
        "model.add(LayerNormalization())\n",
        "model.add(LSTM(32))\n",
        "model.add(LayerNormalization())\n",
        "\n",
        "# Dense layers\n",
        "model.add(Dense(128, activation=\"relu\"))\n",
        "model.add(LayerNormalization())\n",
        "model.add(Dropout(0.2))\n",
        "\n",
        "model.add(Dense(128, activation=\"relu\"))\n",
        "model.add(LayerNormalization())\n",
        "model.add(Dropout(0.2))\n",
        "model.add(Dense(len(np.unique(y)), activation=\"softmax\"))\n",
        "\n",
        "model.compile(optimizer='adam', loss=\"sparse_categorical_crossentropy\", metrics=['accuracy'])\n",
        "\n",
        "model.fit(x=X, y=y, batch_size=10, epochs=50)"
      ]
    },
    {
      "cell_type": "code",
      "execution_count": 9,
      "metadata": {
        "colab": {
          "base_uri": "https://localhost:8080/"
        },
        "id": "WrtMMY-KNwez",
        "outputId": "4e2d7529-8348-4aaf-a404-b8a3fe6aeb29"
      },
      "outputs": [
        {
          "output_type": "stream",
          "name": "stdout",
          "text": [
            "1/1 [==============================] - 2s 2s/step\n",
            "you: Hai! Apa Kabar?\n",
            "model: ['Halo. Ceritakan bagaimana perasaan Anda hari ini?', 'Hai. Apa yang membawamu kemari hari ini?', 'Hai. Bagaimana perasaan Anda hari ini?', 'Senang bertemu dengan Anda. Bagaimana perasaan Anda saat ini?', 'Halo. Senang melihat Anda kembali. Apa yang sedang terjadi di duniamu saat ini?']\n"
          ]
        }
      ],
      "source": [
        "import re\n",
        "import random\n",
        "\n",
        "def generate_answer(pattern):\n",
        "    text = []\n",
        "    txt = re.sub('[^a-zA-Z\\']', ' ', pattern)\n",
        "    txt = txt.lower()\n",
        "    txt = txt.split()\n",
        "    txt = \" \".join(txt)\n",
        "    text.append(txt)\n",
        "\n",
        "    # Tokenize and pad the input sequence\n",
        "    x_test = tokenizer.texts_to_sequences(text)\n",
        "    x_test = pad_sequences(x_test, padding='post', maxlen=X.shape[1])\n",
        "\n",
        "    # Make predictions\n",
        "    y_pred = model.predict(x_test)\n",
        "    predicted_class = np.argmax(y_pred, axis=-1)\n",
        "    tag = lbl_enc.inverse_transform(predicted_class)[0]\n",
        "\n",
        "    # Get responses associated with the selected tag\n",
        "    responses = df[df['tag'] == tag]['responses'].values\n",
        "\n",
        "    if len(responses) > 0:\n",
        "        # If there are responses, choose a random one\n",
        "        response = random.choice(responses)\n",
        "        if isinstance(response, np.ndarray):\n",
        "            # Convert numpy array to string\n",
        "            response = response[0]\n",
        "    else:\n",
        "        # If no responses are found, provide a default message\n",
        "        response = \"I'm sorry, I don't understand that.\"\n",
        "\n",
        "    print(\"you: {}\".format(pattern))\n",
        "    print(\"model: {}\".format(response))\n",
        "\n",
        "generate_answer('Hai! Apa Kabar?')"
      ]
    },
    {
      "cell_type": "code",
      "source": [
        "generate_answer('Kamu siapa')"
      ],
      "metadata": {
        "colab": {
          "base_uri": "https://localhost:8080/"
        },
        "id": "2ZdOBOxYfkaI",
        "outputId": "07ee0a34-03d6-439f-9371-677288b9ab70"
      },
      "execution_count": 10,
      "outputs": [
        {
          "output_type": "stream",
          "name": "stdout",
          "text": [
            "1/1 [==============================] - 0s 43ms/step\n",
            "you: Kamu siapa\n",
            "model: ['Saya Kenari, Asisten AI Terapi Pribadi Anda. Bagaimana perasaan Anda hari ini', 'Saya Kenari, AI Terapi Asisten yang dirancang untuk membantu Anda. Ceritakan tentang diri Anda.', 'Saya Kenari. Saya adalah agen percakapan yang dirancang untuk meniru terapis. Jadi, bagaimana perasaan Anda hari ini?', 'Anda bisa memanggil saya Kenari.', 'Saya Kenari!', 'Panggil saya Kenari']\n"
          ]
        }
      ]
    },
    {
      "cell_type": "code",
      "source": [
        "generate_answer('Siapa yang menciptakanmu?')"
      ],
      "metadata": {
        "colab": {
          "base_uri": "https://localhost:8080/"
        },
        "id": "uGrydDpvXbbz",
        "outputId": "936364f9-eb25-489f-d982-6e32f5d5235d"
      },
      "execution_count": 11,
      "outputs": [
        {
          "output_type": "stream",
          "name": "stdout",
          "text": [
            "1/1 [==============================] - 0s 58ms/step\n",
            "you: Siapa yang menciptakanmu?\n",
            "model: ['Saya diciptakan oleh Tim CH2-PS130 Capstone Project Program Bangkit Academy 2023 Batch 2.', 'Saya dilatih menggunakan dataset teks dengan teknik Deep Learning & Natural Language Processing.', 'Saya diciptakan oleh Tim CH2-PS130 Capstone Project Program Bangkit Academy 2023 Batch 2. Saya dilatih menggunakan dataset teks dengan teknik Deep Learning & Natural Language Processing.']\n"
          ]
        }
      ]
    },
    {
      "cell_type": "code",
      "source": [
        "generate_answer('Saya pikir saya depresi.')"
      ],
      "metadata": {
        "colab": {
          "base_uri": "https://localhost:8080/"
        },
        "id": "hk96dvxNYN7z",
        "outputId": "4fb2d3b6-d688-4463-b877-c06915358cc1"
      },
      "execution_count": 12,
      "outputs": [
        {
          "output_type": "stream",
          "name": "stdout",
          "text": [
            "1/1 [==============================] - 0s 41ms/step\n",
            "you: Saya pikir saya depresi.\n",
            "model: ['Bicarakan tentang apa yang sedang terjadi. Anda akan baik-baik saja.', 'Bicaralah padaku. Ceritakan lebih banyak. Membuka diri kepada orang lain bisa membantu.', 'Terkadang ketika kita depresi, sulit untuk peduli tentang apapun. Sulit untuk melakukan hal-hal yang paling sederhana. Beri diri Anda waktu untuk sembuh.']\n"
          ]
        }
      ]
    }
  ],
  "metadata": {
    "kernelspec": {
      "display_name": "Python 3",
      "language": "python",
      "name": "python3"
    },
    "language_info": {
      "name": "python",
      "version": "3.8.0"
    },
    "colab": {
      "provenance": []
    }
  },
  "nbformat": 4,
  "nbformat_minor": 0
}