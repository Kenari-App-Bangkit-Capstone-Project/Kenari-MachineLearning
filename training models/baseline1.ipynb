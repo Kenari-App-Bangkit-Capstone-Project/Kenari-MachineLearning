{
  "cells": [
    {
      "cell_type": "markdown",
      "metadata": {
        "id": "VPW4wb2VNwer"
      },
      "source": []
    },
    {
      "cell_type": "code",
      "execution_count": null,
      "metadata": {
        "colab": {
          "base_uri": "https://localhost:8080/"
        },
        "id": "RENnySalNweu",
        "outputId": "a6fb0387-fcaa-4fe7-da81-f18d51d0067c"
      },
      "outputs": [
        {
          "output_type": "stream",
          "name": "stdout",
          "text": [
            "   Unnamed: 0       tag                  patterns  \\\n",
            "0           0  greeting                        Hi   \n",
            "1           1  greeting                       Hey   \n",
            "2           2  greeting  Apakah ada orang disana?   \n",
            "3           3  greeting                      Halo   \n",
            "4           4  greeting                     Hello   \n",
            "\n",
            "                                           responses  \n",
            "0  ['Halo. Ceritakan bagaimana perasaan Anda hari...  \n",
            "1  ['Halo. Ceritakan bagaimana perasaan Anda hari...  \n",
            "2  ['Halo. Ceritakan bagaimana perasaan Anda hari...  \n",
            "3  ['Halo. Ceritakan bagaimana perasaan Anda hari...  \n",
            "4  ['Halo. Ceritakan bagaimana perasaan Anda hari...  \n"
          ]
        }
      ],
      "source": [
        "import pandas as pd\n",
        "\n",
        "# Baca data dari file CSV\n",
        "df = pd.read_csv('mntl.csv')\n",
        "\n",
        "# Tampilkan dataframe\n",
        "print(df.head())\n"
      ]
    },
    {
      "cell_type": "code",
      "execution_count": null,
      "metadata": {
        "id": "ZMW3c1OPNwex"
      },
      "outputs": [],
      "source": [
        "from tensorflow.keras.preprocessing.text import Tokenizer\n",
        "from tensorflow.keras.preprocessing.sequence import pad_sequences\n",
        "from sklearn.preprocessing import LabelEncoder\n",
        "\n",
        "# Convert 'patterns' column to strings\n",
        "df['patterns'] = df['patterns'].astype(str)\n",
        "\n",
        "# Tokenisasi dan pad sequences\n",
        "tokenizer = Tokenizer(lower=True, split=' ')\n",
        "tokenizer.fit_on_texts(df['patterns'])\n",
        "vacab_size = len(tokenizer.word_index)\n",
        "\n",
        "ptrn2seq = tokenizer.texts_to_sequences(df['patterns'])\n",
        "X = pad_sequences(ptrn2seq, padding='post')\n",
        "\n",
        "# Label encoding untuk variabel target\n",
        "lbl_enc = LabelEncoder()\n",
        "y = lbl_enc.fit_transform(df['tag'])"
      ]
    },
    {
      "cell_type": "code",
      "execution_count": null,
      "metadata": {
        "colab": {
          "base_uri": "https://localhost:8080/"
        },
        "id": "SUti83mbNwez",
        "outputId": "0668839a-0612-401b-a2c0-645fb7632b39"
      },
      "outputs": [
        {
          "output_type": "stream",
          "name": "stdout",
          "text": [
            "Epoch 1/50\n",
            "32/32 [==============================] - 10s 32ms/step - loss: 4.9874 - accuracy: 0.0129\n",
            "Epoch 2/50\n",
            "32/32 [==============================] - 1s 32ms/step - loss: 4.6763 - accuracy: 0.0257\n",
            "Epoch 3/50\n",
            "32/32 [==============================] - 1s 33ms/step - loss: 4.5851 - accuracy: 0.0129\n",
            "Epoch 4/50\n",
            "32/32 [==============================] - 1s 33ms/step - loss: 4.4894 - accuracy: 0.0289\n",
            "Epoch 5/50\n",
            "32/32 [==============================] - 1s 42ms/step - loss: 4.5087 - accuracy: 0.0161\n",
            "Epoch 6/50\n",
            "32/32 [==============================] - 2s 48ms/step - loss: 4.4065 - accuracy: 0.0354\n",
            "Epoch 7/50\n",
            "32/32 [==============================] - 2s 49ms/step - loss: 4.2894 - accuracy: 0.0386\n",
            "Epoch 8/50\n",
            "32/32 [==============================] - 1s 32ms/step - loss: 4.1688 - accuracy: 0.0707\n",
            "Epoch 9/50\n",
            "32/32 [==============================] - 1s 32ms/step - loss: 4.1199 - accuracy: 0.0450\n",
            "Epoch 10/50\n",
            "32/32 [==============================] - 1s 32ms/step - loss: 3.8743 - accuracy: 0.0868\n",
            "Epoch 11/50\n",
            "32/32 [==============================] - 1s 31ms/step - loss: 3.7556 - accuracy: 0.0997\n",
            "Epoch 12/50\n",
            "32/32 [==============================] - 1s 32ms/step - loss: 3.5481 - accuracy: 0.0707\n",
            "Epoch 13/50\n",
            "32/32 [==============================] - 1s 32ms/step - loss: 3.5376 - accuracy: 0.0997\n",
            "Epoch 14/50\n",
            "32/32 [==============================] - 1s 32ms/step - loss: 3.3337 - accuracy: 0.1447\n",
            "Epoch 15/50\n",
            "32/32 [==============================] - 1s 32ms/step - loss: 3.0505 - accuracy: 0.1833\n",
            "Epoch 16/50\n",
            "32/32 [==============================] - 1s 32ms/step - loss: 2.8761 - accuracy: 0.1961\n",
            "Epoch 17/50\n",
            "32/32 [==============================] - 1s 35ms/step - loss: 2.7025 - accuracy: 0.2122\n",
            "Epoch 18/50\n",
            "32/32 [==============================] - 1s 46ms/step - loss: 2.6088 - accuracy: 0.2605\n",
            "Epoch 19/50\n",
            "32/32 [==============================] - 1s 45ms/step - loss: 2.4469 - accuracy: 0.3119\n",
            "Epoch 20/50\n",
            "32/32 [==============================] - 1s 41ms/step - loss: 2.3591 - accuracy: 0.3087\n",
            "Epoch 21/50\n",
            "32/32 [==============================] - 1s 31ms/step - loss: 2.1023 - accuracy: 0.3826\n",
            "Epoch 22/50\n",
            "32/32 [==============================] - 1s 32ms/step - loss: 1.8968 - accuracy: 0.4502\n",
            "Epoch 23/50\n",
            "32/32 [==============================] - 1s 32ms/step - loss: 1.8512 - accuracy: 0.4405\n",
            "Epoch 24/50\n",
            "32/32 [==============================] - 1s 32ms/step - loss: 1.6961 - accuracy: 0.4759\n",
            "Epoch 25/50\n",
            "32/32 [==============================] - 1s 32ms/step - loss: 1.5228 - accuracy: 0.5466\n",
            "Epoch 26/50\n",
            "32/32 [==============================] - 1s 32ms/step - loss: 1.3842 - accuracy: 0.5723\n",
            "Epoch 27/50\n",
            "32/32 [==============================] - 1s 32ms/step - loss: 1.2794 - accuracy: 0.6399\n",
            "Epoch 28/50\n",
            "32/32 [==============================] - 1s 32ms/step - loss: 1.2260 - accuracy: 0.6174\n",
            "Epoch 29/50\n",
            "32/32 [==============================] - 1s 32ms/step - loss: 1.1624 - accuracy: 0.6752\n",
            "Epoch 30/50\n",
            "32/32 [==============================] - 1s 42ms/step - loss: 1.1197 - accuracy: 0.6656\n",
            "Epoch 31/50\n",
            "32/32 [==============================] - 2s 48ms/step - loss: 1.0158 - accuracy: 0.6752\n",
            "Epoch 32/50\n",
            "32/32 [==============================] - 1s 47ms/step - loss: 0.9868 - accuracy: 0.7106\n",
            "Epoch 33/50\n",
            "32/32 [==============================] - 1s 33ms/step - loss: 0.8582 - accuracy: 0.7556\n",
            "Epoch 34/50\n",
            "32/32 [==============================] - 1s 31ms/step - loss: 0.8211 - accuracy: 0.7492\n",
            "Epoch 35/50\n",
            "32/32 [==============================] - 1s 32ms/step - loss: 0.6450 - accuracy: 0.8360\n",
            "Epoch 36/50\n",
            "32/32 [==============================] - 1s 32ms/step - loss: 0.5159 - accuracy: 0.8875\n",
            "Epoch 37/50\n",
            "32/32 [==============================] - 1s 32ms/step - loss: 0.4841 - accuracy: 0.8939\n",
            "Epoch 38/50\n",
            "32/32 [==============================] - 1s 31ms/step - loss: 0.4917 - accuracy: 0.8939\n",
            "Epoch 39/50\n",
            "32/32 [==============================] - 1s 32ms/step - loss: 0.3678 - accuracy: 0.9260\n",
            "Epoch 40/50\n",
            "32/32 [==============================] - 1s 31ms/step - loss: 0.3431 - accuracy: 0.9325\n",
            "Epoch 41/50\n",
            "32/32 [==============================] - 1s 32ms/step - loss: 0.2764 - accuracy: 0.9614\n",
            "Epoch 42/50\n",
            "32/32 [==============================] - 1s 33ms/step - loss: 0.2336 - accuracy: 0.9743\n",
            "Epoch 43/50\n",
            "32/32 [==============================] - 2s 47ms/step - loss: 0.2057 - accuracy: 0.9839\n",
            "Epoch 44/50\n",
            "32/32 [==============================] - 1s 46ms/step - loss: 0.1957 - accuracy: 0.9678\n",
            "Epoch 45/50\n",
            "32/32 [==============================] - 1s 42ms/step - loss: 0.2159 - accuracy: 0.9646\n",
            "Epoch 46/50\n",
            "32/32 [==============================] - 1s 31ms/step - loss: 0.1984 - accuracy: 0.9614\n",
            "Epoch 47/50\n",
            "32/32 [==============================] - 1s 31ms/step - loss: 0.1537 - accuracy: 0.9839\n",
            "Epoch 48/50\n",
            "32/32 [==============================] - 1s 32ms/step - loss: 0.1332 - accuracy: 0.9871\n",
            "Epoch 49/50\n",
            "32/32 [==============================] - 1s 32ms/step - loss: 0.1142 - accuracy: 0.9839\n",
            "Epoch 50/50\n",
            "32/32 [==============================] - 1s 31ms/step - loss: 0.0989 - accuracy: 0.9904\n"
          ]
        },
        {
          "output_type": "execute_result",
          "data": {
            "text/plain": [
              "<keras.src.callbacks.History at 0x7fa739109ae0>"
            ]
          },
          "metadata": {},
          "execution_count": 31
        }
      ],
      "source": [
        "from tensorflow.keras.models import Sequential\n",
        "from tensorflow.keras.layers import Input, Embedding, LSTM, LayerNormalization, Dense, Dropout\n",
        "import numpy as np\n",
        "\n",
        "model = Sequential()\n",
        "model.add(Input(shape=(X.shape[1],)))  # Fix: Added comma in the shape tuple\n",
        "\n",
        "# Embedding layer\n",
        "model.add(Embedding(input_dim=vacab_size + 1, output_dim=100))\n",
        "\n",
        "# LSTM layers\n",
        "model.add(LSTM(32, return_sequences=True))\n",
        "model.add(LayerNormalization())\n",
        "model.add(LSTM(32, return_sequences=True))\n",
        "model.add(LayerNormalization())\n",
        "model.add(LSTM(32))\n",
        "model.add(LayerNormalization())\n",
        "\n",
        "# Dense layers\n",
        "model.add(Dense(128, activation=\"relu\"))\n",
        "model.add(LayerNormalization())\n",
        "model.add(Dropout(0.2))\n",
        "\n",
        "model.add(Dense(128, activation=\"relu\"))\n",
        "model.add(LayerNormalization())\n",
        "model.add(Dropout(0.2))\n",
        "model.add(Dense(len(np.unique(y)), activation=\"softmax\"))\n",
        "\n",
        "model.compile(optimizer='adam', loss=\"sparse_categorical_crossentropy\", metrics=['accuracy'])\n",
        "\n",
        "model.fit(x=X, y=y, batch_size=10, epochs=50)"
      ]
    },
    {
      "cell_type": "code",
      "execution_count": null,
      "metadata": {
        "colab": {
          "base_uri": "https://localhost:8080/"
        },
        "id": "WrtMMY-KNwez",
        "outputId": "7bf86a1a-a11f-47e5-e09c-4ce815fbb6c6"
      },
      "outputs": [
        {
          "output_type": "stream",
          "name": "stdout",
          "text": [
            "1/1 [==============================] - 0s 23ms/step\n",
            "you: Hai! Apa Kabar?\n",
            "model: ['Halo. Ceritakan bagaimana perasaan Anda hari ini?', 'Hai. Apa yang membawamu kemari hari ini?', 'Hai. Bagaimana perasaan Anda hari ini?', 'Senang bertemu dengan Anda. Bagaimana perasaan Anda saat ini?', 'Halo. Senang melihat Anda kembali. Apa yang sedang terjadi di duniamu saat ini?']\n"
          ]
        }
      ],
      "source": [
        "import re\n",
        "import random\n",
        "\n",
        "def generate_answer(pattern):\n",
        "    text = []\n",
        "    txt = re.sub('[^a-zA-Z\\']', ' ', pattern)\n",
        "    txt = txt.lower()\n",
        "    txt = txt.split()\n",
        "    txt = \" \".join(txt)\n",
        "    text.append(txt)\n",
        "\n",
        "    # Tokenize and pad the input sequence\n",
        "    x_test = tokenizer.texts_to_sequences(text)\n",
        "    x_test = pad_sequences(x_test, padding='post', maxlen=X.shape[1])\n",
        "\n",
        "    # Make predictions\n",
        "    y_pred = model.predict(x_test)\n",
        "    predicted_class = np.argmax(y_pred, axis=-1)\n",
        "    tag = lbl_enc.inverse_transform(predicted_class)[0]\n",
        "\n",
        "    # Get responses associated with the selected tag\n",
        "    responses = df[df['tag'] == tag]['responses'].values\n",
        "\n",
        "    if len(responses) > 0:\n",
        "        # If there are responses, choose a random one\n",
        "        response = random.choice(responses)\n",
        "        if isinstance(response, np.ndarray):\n",
        "            # Convert numpy array to string\n",
        "            response = response[0]\n",
        "    else:\n",
        "        # If no responses are found, provide a default message\n",
        "        response = \"I'm sorry, I don't understand that.\"\n",
        "\n",
        "    print(\"you: {}\".format(pattern))\n",
        "    print(\"model: {}\".format(response))\n",
        "\n",
        "generate_answer('Hai! Apa Kabar?')\n"
      ]
    },
    {
      "cell_type": "code",
      "source": [
        "generate_answer('Hai! Apa Kabar?')"
      ],
      "metadata": {
        "colab": {
          "base_uri": "https://localhost:8080/"
        },
        "id": "2ZdOBOxYfkaI",
        "outputId": "27ec3609-613b-438a-cb05-dbf294145e56"
      },
      "execution_count": null,
      "outputs": [
        {
          "output_type": "stream",
          "name": "stdout",
          "text": [
            "1/1 [==============================] - 0s 41ms/step\n",
            "you: Hai! Apa Kabar?\n",
            "model: ['Halo. Ceritakan bagaimana perasaan Anda hari ini?', 'Hai. Apa yang membawamu kemari hari ini?', 'Hai. Bagaimana perasaan Anda hari ini?', 'Senang bertemu dengan Anda. Bagaimana perasaan Anda saat ini?', 'Halo. Senang melihat Anda kembali. Apa yang sedang terjadi di duniamu saat ini?']\n"
          ]
        }
      ]
    }
  ],
  "metadata": {
    "kernelspec": {
      "display_name": "Python 3",
      "language": "python",
      "name": "python3"
    },
    "language_info": {
      "name": "python",
      "version": "3.8.0"
    },
    "colab": {
      "provenance": []
    }
  },
  "nbformat": 4,
  "nbformat_minor": 0
}