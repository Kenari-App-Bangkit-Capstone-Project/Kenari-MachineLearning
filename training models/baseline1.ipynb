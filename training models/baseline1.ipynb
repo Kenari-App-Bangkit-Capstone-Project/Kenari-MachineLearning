{
  "cells": [
    {
      "cell_type": "markdown",
      "metadata": {
        "id": "VPW4wb2VNwer"
      },
      "source": []
    },
    {
      "cell_type": "code",
      "execution_count": 1,
      "metadata": {
        "colab": {
          "base_uri": "https://localhost:8080/"
        },
        "id": "RENnySalNweu",
        "outputId": "4e5351ce-97f9-46f8-b2a4-fc85bf315023"
      },
      "outputs": [
        {
          "output_type": "stream",
          "name": "stdout",
          "text": [
            "   Unnamed: 0       tag                  patterns  \\\n",
            "0           0  greeting                        Hi   \n",
            "1           1  greeting                       Hey   \n",
            "2           2  greeting  Apakah ada orang disana?   \n",
            "3           3  greeting                      Halo   \n",
            "4           4  greeting                     Hello   \n",
            "\n",
            "                                           responses  \n",
            "0  ['Halo. Ceritakan bagaimana perasaan Anda hari...  \n",
            "1  ['Halo. Ceritakan bagaimana perasaan Anda hari...  \n",
            "2  ['Halo. Ceritakan bagaimana perasaan Anda hari...  \n",
            "3  ['Halo. Ceritakan bagaimana perasaan Anda hari...  \n",
            "4  ['Halo. Ceritakan bagaimana perasaan Anda hari...  \n"
          ]
        }
      ],
      "source": [
        "import pandas as pd\n",
        "\n",
        "# Baca data dari file CSV\n",
        "df = pd.read_csv('mntl.csv')\n",
        "\n",
        "# Tampilkan dataframe\n",
        "print(df.head())\n"
      ]
    },
    {
      "cell_type": "code",
      "execution_count": 2,
      "metadata": {
        "id": "ZMW3c1OPNwex"
      },
      "outputs": [],
      "source": [
        "from tensorflow.keras.preprocessing.text import Tokenizer\n",
        "from tensorflow.keras.preprocessing.sequence import pad_sequences\n",
        "from sklearn.preprocessing import LabelEncoder\n",
        "\n",
        "# Convert 'patterns' column to strings\n",
        "df['patterns'] = df['patterns'].astype(str)\n",
        "\n",
        "# Tokenisasi dan pad sequences\n",
        "tokenizer = Tokenizer(lower=True, split=' ')\n",
        "tokenizer.fit_on_texts(df['patterns'])\n",
        "vacab_size = len(tokenizer.word_index)\n",
        "\n",
        "ptrn2seq = tokenizer.texts_to_sequences(df['patterns'])\n",
        "X = pad_sequences(ptrn2seq, padding='post')\n",
        "\n",
        "# Label encoding untuk variabel target\n",
        "lbl_enc = LabelEncoder()\n",
        "y = lbl_enc.fit_transform(df['tag'])"
      ]
    },
    {
      "cell_type": "code",
      "execution_count": 3,
      "metadata": {
        "colab": {
          "base_uri": "https://localhost:8080/"
        },
        "id": "SUti83mbNwez",
        "outputId": "e429d66c-8dc5-4db4-e6dd-0ead1aa541d2"
      },
      "outputs": [
        {
          "output_type": "stream",
          "name": "stdout",
          "text": [
            "Epoch 1/50\n",
            "32/32 [==============================] - 16s 96ms/step - loss: 4.6726 - accuracy: 0.0096\n",
            "Epoch 2/50\n",
            "32/32 [==============================] - 1s 35ms/step - loss: 4.4550 - accuracy: 0.0225\n",
            "Epoch 3/50\n",
            "32/32 [==============================] - 2s 60ms/step - loss: 4.3915 - accuracy: 0.0193\n",
            "Epoch 4/50\n",
            "32/32 [==============================] - 1s 26ms/step - loss: 4.3602 - accuracy: 0.0257\n",
            "Epoch 5/50\n",
            "32/32 [==============================] - 1s 40ms/step - loss: 4.3652 - accuracy: 0.0289\n",
            "Epoch 6/50\n",
            "32/32 [==============================] - 0s 13ms/step - loss: 4.2930 - accuracy: 0.0257\n",
            "Epoch 7/50\n",
            "32/32 [==============================] - 1s 16ms/step - loss: 4.1386 - accuracy: 0.0289\n",
            "Epoch 8/50\n",
            "32/32 [==============================] - 0s 12ms/step - loss: 4.0409 - accuracy: 0.0772\n",
            "Epoch 9/50\n",
            "32/32 [==============================] - 1s 17ms/step - loss: 3.9036 - accuracy: 0.0740\n",
            "Epoch 10/50\n",
            "32/32 [==============================] - 1s 22ms/step - loss: 3.6216 - accuracy: 0.1222\n",
            "Epoch 11/50\n",
            "32/32 [==============================] - 0s 12ms/step - loss: 3.3414 - accuracy: 0.1543\n",
            "Epoch 12/50\n",
            "32/32 [==============================] - 1s 17ms/step - loss: 3.0699 - accuracy: 0.1865\n",
            "Epoch 13/50\n",
            "32/32 [==============================] - 0s 11ms/step - loss: 2.8925 - accuracy: 0.2219\n",
            "Epoch 14/50\n",
            "32/32 [==============================] - 0s 11ms/step - loss: 2.5447 - accuracy: 0.2926\n",
            "Epoch 15/50\n",
            "32/32 [==============================] - 0s 11ms/step - loss: 2.3405 - accuracy: 0.3376\n",
            "Epoch 16/50\n",
            "32/32 [==============================] - 1s 16ms/step - loss: 2.1214 - accuracy: 0.3730\n",
            "Epoch 17/50\n",
            "32/32 [==============================] - 1s 16ms/step - loss: 2.0002 - accuracy: 0.4180\n",
            "Epoch 18/50\n",
            "32/32 [==============================] - 1s 11ms/step - loss: 1.7239 - accuracy: 0.4920\n",
            "Epoch 19/50\n",
            "32/32 [==============================] - 0s 12ms/step - loss: 1.5628 - accuracy: 0.5241\n",
            "Epoch 20/50\n",
            "32/32 [==============================] - 0s 11ms/step - loss: 1.3400 - accuracy: 0.6077\n",
            "Epoch 21/50\n",
            "32/32 [==============================] - 1s 17ms/step - loss: 1.3488 - accuracy: 0.5981\n",
            "Epoch 22/50\n",
            "32/32 [==============================] - 0s 12ms/step - loss: 1.0979 - accuracy: 0.6656\n",
            "Epoch 23/50\n",
            "32/32 [==============================] - 0s 12ms/step - loss: 0.9692 - accuracy: 0.7235\n",
            "Epoch 24/50\n",
            "32/32 [==============================] - 0s 12ms/step - loss: 0.9574 - accuracy: 0.6945\n",
            "Epoch 25/50\n",
            "32/32 [==============================] - 0s 11ms/step - loss: 0.8614 - accuracy: 0.7267\n",
            "Epoch 26/50\n",
            "32/32 [==============================] - 1s 16ms/step - loss: 0.7733 - accuracy: 0.7878\n",
            "Epoch 27/50\n",
            "32/32 [==============================] - 0s 12ms/step - loss: 0.6409 - accuracy: 0.8199\n",
            "Epoch 28/50\n",
            "32/32 [==============================] - 0s 14ms/step - loss: 0.6553 - accuracy: 0.8039\n",
            "Epoch 29/50\n",
            "32/32 [==============================] - 1s 17ms/step - loss: 0.5494 - accuracy: 0.8392\n",
            "Epoch 30/50\n",
            "32/32 [==============================] - 1s 17ms/step - loss: 0.4896 - accuracy: 0.8585\n",
            "Epoch 31/50\n",
            "32/32 [==============================] - 1s 17ms/step - loss: 0.4217 - accuracy: 0.8939\n",
            "Epoch 32/50\n",
            "32/32 [==============================] - 1s 17ms/step - loss: 0.3570 - accuracy: 0.9100\n",
            "Epoch 33/50\n",
            "32/32 [==============================] - 1s 19ms/step - loss: 0.2983 - accuracy: 0.9228\n",
            "Epoch 34/50\n",
            "32/32 [==============================] - 1s 26ms/step - loss: 0.2861 - accuracy: 0.9228\n",
            "Epoch 35/50\n",
            "32/32 [==============================] - 0s 12ms/step - loss: 0.3003 - accuracy: 0.9100\n",
            "Epoch 36/50\n",
            "32/32 [==============================] - 0s 11ms/step - loss: 0.2980 - accuracy: 0.9325\n",
            "Epoch 37/50\n",
            "32/32 [==============================] - 0s 12ms/step - loss: 0.2902 - accuracy: 0.9068\n",
            "Epoch 38/50\n",
            "32/32 [==============================] - 1s 17ms/step - loss: 0.2572 - accuracy: 0.9325\n",
            "Epoch 39/50\n",
            "32/32 [==============================] - 1s 21ms/step - loss: 0.2002 - accuracy: 0.9453\n",
            "Epoch 40/50\n",
            "32/32 [==============================] - 0s 12ms/step - loss: 0.1940 - accuracy: 0.9518\n",
            "Epoch 41/50\n",
            "32/32 [==============================] - 0s 12ms/step - loss: 0.2039 - accuracy: 0.9486\n",
            "Epoch 42/50\n",
            "32/32 [==============================] - 0s 11ms/step - loss: 0.2114 - accuracy: 0.9389\n",
            "Epoch 43/50\n",
            "32/32 [==============================] - 1s 16ms/step - loss: 0.1751 - accuracy: 0.9550\n",
            "Epoch 44/50\n",
            "32/32 [==============================] - 1s 16ms/step - loss: 0.1115 - accuracy: 0.9807\n",
            "Epoch 45/50\n",
            "32/32 [==============================] - 0s 13ms/step - loss: 0.1304 - accuracy: 0.9711\n",
            "Epoch 46/50\n",
            "32/32 [==============================] - 0s 12ms/step - loss: 0.1174 - accuracy: 0.9775\n",
            "Epoch 47/50\n",
            "32/32 [==============================] - 0s 12ms/step - loss: 0.1306 - accuracy: 0.9678\n",
            "Epoch 48/50\n",
            "32/32 [==============================] - 1s 17ms/step - loss: 0.1206 - accuracy: 0.9678\n",
            "Epoch 49/50\n",
            "32/32 [==============================] - 1s 12ms/step - loss: 0.1312 - accuracy: 0.9646\n",
            "Epoch 50/50\n",
            "32/32 [==============================] - 0s 12ms/step - loss: 0.1142 - accuracy: 0.9743\n"
          ]
        },
        {
          "output_type": "execute_result",
          "data": {
            "text/plain": [
              "<keras.src.callbacks.History at 0x79fd7f7e1510>"
            ]
          },
          "metadata": {},
          "execution_count": 3
        }
      ],
      "source": [
        "from tensorflow.keras.models import Sequential\n",
        "from tensorflow.keras.layers import Input, Embedding, LSTM, LayerNormalization, Dense, Dropout\n",
        "import numpy as np\n",
        "\n",
        "model = Sequential([\n",
        "          Input(shape=(X.shape[1],)),  # Fix: Added comma in the shape tuple\n",
        "          # Embedding layer\n",
        "\n",
        "          Embedding(input_dim=vacab_size + 1, output_dim=100),\n",
        "          # LSTM layers\n",
        "          LayerNormalization(),\n",
        "          LSTM(32, return_sequences=True),\n",
        "          LayerNormalization(),\n",
        "          LSTM(32, return_sequences=True),\n",
        "          LSTM(32),\n",
        "          LayerNormalization(),\n",
        "\n",
        "          # Dense layers\n",
        "          LayerNormalization(),\n",
        "          Dense(128, activation=\"relu\"),\n",
        "          Dropout(0.2),\n",
        "\n",
        "          LayerNormalization(),\n",
        "          Dense(128, activation=\"relu\"),\n",
        "          Dropout(0.2),\n",
        "          Dense(len(np.unique(y)), activation=\"softmax\")\n",
        "])\n",
        "\n",
        "\n",
        "model.compile(optimizer='adam', loss=\"sparse_categorical_crossentropy\", metrics=['accuracy'])\n",
        "\n",
        "model.fit(x=X, y=y, batch_size=10, epochs=50)"
      ]
    },
    {
      "cell_type": "code",
      "source": [
        "model.save(\"model1.h5\")"
      ],
      "metadata": {
        "colab": {
          "base_uri": "https://localhost:8080/"
        },
        "id": "cWfRCa4Bnkrh",
        "outputId": "ec380c25-5b86-4ed5-c058-779b1a613e60"
      },
      "execution_count": 4,
      "outputs": [
        {
          "output_type": "stream",
          "name": "stderr",
          "text": [
            "/usr/local/lib/python3.10/dist-packages/keras/src/engine/training.py:3079: UserWarning: You are saving your model as an HDF5 file via `model.save()`. This file format is considered legacy. We recommend using instead the native Keras format, e.g. `model.save('my_model.keras')`.\n",
            "  saving_api.save_model(\n"
          ]
        }
      ]
    },
    {
      "cell_type": "code",
      "execution_count": 5,
      "metadata": {
        "colab": {
          "base_uri": "https://localhost:8080/"
        },
        "id": "WrtMMY-KNwez",
        "outputId": "71d62087-a877-44da-f39a-0e0c4143f0e7"
      },
      "outputs": [
        {
          "output_type": "stream",
          "name": "stdout",
          "text": [
            "1/1 [==============================] - 1s 1s/step\n",
            "you: Hai! Apa Kabar?\n",
            "model: ['Halo. Ceritakan bagaimana perasaan Anda hari ini?', 'Hai. Apa yang membawamu kemari hari ini?', 'Hai. Bagaimana perasaan Anda hari ini?', 'Senang bertemu dengan Anda. Bagaimana perasaan Anda saat ini?', 'Halo. Senang melihat Anda kembali. Apa yang sedang terjadi di duniamu saat ini?']\n"
          ]
        }
      ],
      "source": [
        "import re\n",
        "import random\n",
        "\n",
        "def generate_answer(pattern):\n",
        "    text = []\n",
        "    txt = re.sub('[^a-zA-Z\\']', ' ', pattern)\n",
        "    txt = txt.lower()\n",
        "    txt = txt.split()\n",
        "    txt = \" \".join(txt)\n",
        "    text.append(txt)\n",
        "\n",
        "    # Tokenize and pad the input sequence\n",
        "    x_test = tokenizer.texts_to_sequences(text)\n",
        "    x_test = pad_sequences(x_test, padding='post', maxlen=X.shape[1])\n",
        "\n",
        "    # Make predictions\n",
        "    y_pred = model.predict(x_test)\n",
        "    predicted_class = np.argmax(y_pred, axis=-1)\n",
        "    tag = lbl_enc.inverse_transform(predicted_class)[0]\n",
        "\n",
        "    # Get responses associated with the selected tag\n",
        "    responses = df[df['tag'] == tag]['responses'].values\n",
        "\n",
        "    if len(responses) > 0:\n",
        "        # If there are responses, choose a random one\n",
        "        response = random.choice(responses)\n",
        "        if isinstance(response, np.ndarray):\n",
        "            # Convert numpy array to string\n",
        "            response = response[0]\n",
        "    else:\n",
        "        # If no responses are found, provide a default message\n",
        "        response = \"I'm sorry, I don't understand that.\"\n",
        "\n",
        "    print(\"you: {}\".format(pattern))\n",
        "    print(\"model: {}\".format(response))\n",
        "\n",
        "generate_answer('Hai! Apa Kabar?')"
      ]
    },
    {
      "cell_type": "code",
      "source": [
        "generate_answer('Kamu siapa')"
      ],
      "metadata": {
        "colab": {
          "base_uri": "https://localhost:8080/"
        },
        "id": "2ZdOBOxYfkaI",
        "outputId": "de48f749-9d28-41f7-8ca1-5b54747b7f40"
      },
      "execution_count": 6,
      "outputs": [
        {
          "output_type": "stream",
          "name": "stdout",
          "text": [
            "1/1 [==============================] - 0s 23ms/step\n",
            "you: Kamu siapa\n",
            "model: ['Saya Kenari, Asisten AI Terapi Pribadi Anda. Bagaimana perasaan Anda hari ini', 'Saya Kenari, AI Terapi Asisten yang dirancang untuk membantu Anda. Ceritakan tentang diri Anda.', 'Saya Kenari. Saya adalah agen percakapan yang dirancang untuk meniru terapis. Jadi, bagaimana perasaan Anda hari ini?', 'Anda bisa memanggil saya Kenari.', 'Saya Kenari!', 'Panggil saya Kenari']\n"
          ]
        }
      ]
    },
    {
      "cell_type": "code",
      "source": [
        "generate_answer('Siapa yang menciptakanmu?')"
      ],
      "metadata": {
        "colab": {
          "base_uri": "https://localhost:8080/"
        },
        "id": "uGrydDpvXbbz",
        "outputId": "c0becdfb-3e75-46d0-d0e0-031ae7fb7779"
      },
      "execution_count": 7,
      "outputs": [
        {
          "output_type": "stream",
          "name": "stdout",
          "text": [
            "1/1 [==============================] - 0s 22ms/step\n",
            "you: Siapa yang menciptakanmu?\n",
            "model: ['Saya diciptakan oleh Tim CH2-PS130 Capstone Project Program Bangkit Academy 2023 Batch 2.', 'Saya dilatih menggunakan dataset teks dengan teknik Deep Learning & Natural Language Processing.', 'Saya diciptakan oleh Tim CH2-PS130 Capstone Project Program Bangkit Academy 2023 Batch 2. Saya dilatih menggunakan dataset teks dengan teknik Deep Learning & Natural Language Processing.']\n"
          ]
        }
      ]
    },
    {
      "cell_type": "code",
      "source": [
        "generate_answer('Saya pikir saya depresi.')"
      ],
      "metadata": {
        "colab": {
          "base_uri": "https://localhost:8080/"
        },
        "id": "hk96dvxNYN7z",
        "outputId": "37b260c6-3f49-41c1-ae6f-0f16959bf7d4"
      },
      "execution_count": 8,
      "outputs": [
        {
          "output_type": "stream",
          "name": "stdout",
          "text": [
            "1/1 [==============================] - 0s 22ms/step\n",
            "you: Saya pikir saya depresi.\n",
            "model: ['Bicarakan tentang apa yang sedang terjadi. Anda akan baik-baik saja.', 'Bicaralah padaku. Ceritakan lebih banyak. Membuka diri kepada orang lain bisa membantu.', 'Terkadang ketika kita depresi, sulit untuk peduli tentang apapun. Sulit untuk melakukan hal-hal yang paling sederhana. Beri diri Anda waktu untuk sembuh.']\n"
          ]
        }
      ]
    }
  ],
  "metadata": {
    "kernelspec": {
      "display_name": "Python 3",
      "name": "python3"
    },
    "language_info": {
      "name": "python",
      "version": "3.8.0"
    },
    "colab": {
      "provenance": [],
      "gpuType": "T4"
    },
    "accelerator": "GPU"
  },
  "nbformat": 4,
  "nbformat_minor": 0
}