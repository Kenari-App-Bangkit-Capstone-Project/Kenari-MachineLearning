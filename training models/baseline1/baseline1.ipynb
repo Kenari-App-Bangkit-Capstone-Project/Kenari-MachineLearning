{
  "cells": [
    {
      "cell_type": "markdown",
      "metadata": {
        "id": "VPW4wb2VNwer"
      },
      "source": [
        "# Read Dataset"
      ]
    },
    {
      "cell_type": "code",
      "execution_count": 1,
      "metadata": {
        "colab": {
          "base_uri": "https://localhost:8080/"
        },
        "id": "RENnySalNweu",
        "outputId": "bbab64c9-174d-4b4d-94ae-cd0caa7aaadf"
      },
      "outputs": [
        {
          "output_type": "stream",
          "name": "stdout",
          "text": [
            "   Unnamed: 0       tag                  patterns  \\\n",
            "0           0  greeting                        Hi   \n",
            "1           1  greeting                       Hey   \n",
            "2           2  greeting  Apakah ada orang disana?   \n",
            "3           3  greeting                      Halo   \n",
            "4           4  greeting                     Hello   \n",
            "\n",
            "                                           responses  \n",
            "0  ['Halo. Ceritakan bagaimana perasaan Anda hari...  \n",
            "1  ['Halo. Ceritakan bagaimana perasaan Anda hari...  \n",
            "2  ['Halo. Ceritakan bagaimana perasaan Anda hari...  \n",
            "3  ['Halo. Ceritakan bagaimana perasaan Anda hari...  \n",
            "4  ['Halo. Ceritakan bagaimana perasaan Anda hari...  \n"
          ]
        }
      ],
      "source": [
        "import pandas as pd\n",
        "\n",
        "# Baca data dari file CSV\n",
        "df = pd.read_csv('mntl.csv')\n",
        "\n",
        "# Tampilkan dataframe\n",
        "print(df.head())"
      ]
    },
    {
      "cell_type": "markdown",
      "source": [
        "# Preprocessing"
      ],
      "metadata": {
        "id": "nwh3ZKrLKMga"
      }
    },
    {
      "cell_type": "code",
      "execution_count": 2,
      "metadata": {
        "id": "ZMW3c1OPNwex"
      },
      "outputs": [],
      "source": [
        "from tensorflow.keras.preprocessing.text import Tokenizer\n",
        "from tensorflow.keras.preprocessing.sequence import pad_sequences\n",
        "from sklearn.preprocessing import LabelEncoder\n",
        "\n",
        "# Convert 'patterns' column to strings\n",
        "df['patterns'] = df['patterns'].astype(str)\n",
        "\n",
        "# Tokenisasi dan pad sequences\n",
        "tokenizer = Tokenizer(lower=True, split=' ')\n",
        "tokenizer.fit_on_texts(df['patterns'])\n",
        "vacab_size = len(tokenizer.word_index)\n",
        "\n",
        "ptrn2seq = tokenizer.texts_to_sequences(df['patterns'])\n",
        "X = pad_sequences(ptrn2seq, padding='post')\n",
        "\n",
        "# Label encoding untuk variabel target\n",
        "lbl_enc = LabelEncoder()\n",
        "y = lbl_enc.fit_transform(df['tag'])"
      ]
    },
    {
      "cell_type": "markdown",
      "source": [
        "# Training Model"
      ],
      "metadata": {
        "id": "UBK-z01EKOoH"
      }
    },
    {
      "cell_type": "code",
      "execution_count": 3,
      "metadata": {
        "colab": {
          "base_uri": "https://localhost:8080/"
        },
        "id": "SUti83mbNwez",
        "outputId": "f775c326-4a1b-493e-bbbd-e25866a40a16"
      },
      "outputs": [
        {
          "output_type": "stream",
          "name": "stdout",
          "text": [
            "Epoch 1/50\n",
            "32/32 [==============================] - 18s 105ms/step - loss: 4.6107 - accuracy: 0.0096\n",
            "Epoch 2/50\n",
            "32/32 [==============================] - 1s 47ms/step - loss: 4.4632 - accuracy: 0.0225\n",
            "Epoch 3/50\n",
            "32/32 [==============================] - 1s 33ms/step - loss: 4.3843 - accuracy: 0.0386\n",
            "Epoch 4/50\n",
            "32/32 [==============================] - 1s 28ms/step - loss: 4.3379 - accuracy: 0.0418\n",
            "Epoch 5/50\n",
            "32/32 [==============================] - 1s 18ms/step - loss: 4.1957 - accuracy: 0.0579\n",
            "Epoch 6/50\n",
            "32/32 [==============================] - 1s 18ms/step - loss: 4.0608 - accuracy: 0.0547\n",
            "Epoch 7/50\n",
            "32/32 [==============================] - 1s 18ms/step - loss: 4.0044 - accuracy: 0.0482\n",
            "Epoch 8/50\n",
            "32/32 [==============================] - 1s 23ms/step - loss: 3.7965 - accuracy: 0.0804\n",
            "Epoch 9/50\n",
            "32/32 [==============================] - 1s 18ms/step - loss: 3.5940 - accuracy: 0.0997\n",
            "Epoch 10/50\n",
            "32/32 [==============================] - 1s 35ms/step - loss: 3.4332 - accuracy: 0.1029\n",
            "Epoch 11/50\n",
            "32/32 [==============================] - 1s 19ms/step - loss: 3.2967 - accuracy: 0.1318\n",
            "Epoch 12/50\n",
            "32/32 [==============================] - 1s 19ms/step - loss: 3.1512 - accuracy: 0.1190\n",
            "Epoch 13/50\n",
            "32/32 [==============================] - 1s 19ms/step - loss: 2.9598 - accuracy: 0.1576\n",
            "Epoch 14/50\n",
            "32/32 [==============================] - 1s 33ms/step - loss: 2.7741 - accuracy: 0.1994\n",
            "Epoch 15/50\n",
            "32/32 [==============================] - 1s 20ms/step - loss: 2.5672 - accuracy: 0.2476\n",
            "Epoch 16/50\n",
            "32/32 [==============================] - 0s 14ms/step - loss: 2.3066 - accuracy: 0.3055\n",
            "Epoch 17/50\n",
            "32/32 [==============================] - 0s 14ms/step - loss: 2.1728 - accuracy: 0.3280\n",
            "Epoch 18/50\n",
            "32/32 [==============================] - 0s 14ms/step - loss: 1.8866 - accuracy: 0.4148\n",
            "Epoch 19/50\n",
            "32/32 [==============================] - 0s 14ms/step - loss: 1.6993 - accuracy: 0.4630\n",
            "Epoch 20/50\n",
            "32/32 [==============================] - 0s 15ms/step - loss: 1.4826 - accuracy: 0.5402\n",
            "Epoch 21/50\n",
            "32/32 [==============================] - 0s 13ms/step - loss: 1.3507 - accuracy: 0.6013\n",
            "Epoch 22/50\n",
            "32/32 [==============================] - 1s 18ms/step - loss: 1.2986 - accuracy: 0.5916\n",
            "Epoch 23/50\n",
            "32/32 [==============================] - 0s 13ms/step - loss: 1.1219 - accuracy: 0.6559\n",
            "Epoch 24/50\n",
            "32/32 [==============================] - 0s 14ms/step - loss: 0.9657 - accuracy: 0.6752\n",
            "Epoch 25/50\n",
            "32/32 [==============================] - 0s 13ms/step - loss: 0.9342 - accuracy: 0.6817\n",
            "Epoch 26/50\n",
            "32/32 [==============================] - 0s 13ms/step - loss: 0.8159 - accuracy: 0.7428\n",
            "Epoch 27/50\n",
            "32/32 [==============================] - 0s 14ms/step - loss: 0.6858 - accuracy: 0.8103\n",
            "Epoch 28/50\n",
            "32/32 [==============================] - 0s 13ms/step - loss: 0.5979 - accuracy: 0.8199\n",
            "Epoch 29/50\n",
            "32/32 [==============================] - 0s 14ms/step - loss: 0.5514 - accuracy: 0.8232\n",
            "Epoch 30/50\n",
            "32/32 [==============================] - 0s 13ms/step - loss: 0.4220 - accuracy: 0.8939\n",
            "Epoch 31/50\n",
            "32/32 [==============================] - 0s 14ms/step - loss: 0.3791 - accuracy: 0.8907\n",
            "Epoch 32/50\n",
            "32/32 [==============================] - 1s 19ms/step - loss: 0.3951 - accuracy: 0.8875\n",
            "Epoch 33/50\n",
            "32/32 [==============================] - 0s 13ms/step - loss: 0.2908 - accuracy: 0.9293\n",
            "Epoch 34/50\n",
            "32/32 [==============================] - 0s 13ms/step - loss: 0.2439 - accuracy: 0.9518\n",
            "Epoch 35/50\n",
            "32/32 [==============================] - 0s 13ms/step - loss: 0.2178 - accuracy: 0.9486\n",
            "Epoch 36/50\n",
            "32/32 [==============================] - 1s 23ms/step - loss: 0.1992 - accuracy: 0.9614\n",
            "Epoch 37/50\n",
            "32/32 [==============================] - 1s 19ms/step - loss: 0.2097 - accuracy: 0.9357\n",
            "Epoch 38/50\n",
            "32/32 [==============================] - 1s 25ms/step - loss: 0.1848 - accuracy: 0.9711\n",
            "Epoch 39/50\n",
            "32/32 [==============================] - 1s 18ms/step - loss: 0.1507 - accuracy: 0.9678\n",
            "Epoch 40/50\n",
            "32/32 [==============================] - 1s 27ms/step - loss: 0.1385 - accuracy: 0.9678\n",
            "Epoch 41/50\n",
            "32/32 [==============================] - 1s 19ms/step - loss: 0.1128 - accuracy: 0.9743\n",
            "Epoch 42/50\n",
            "32/32 [==============================] - 1s 16ms/step - loss: 0.1146 - accuracy: 0.9871\n",
            "Epoch 43/50\n",
            "32/32 [==============================] - 0s 12ms/step - loss: 0.0887 - accuracy: 0.9807\n",
            "Epoch 44/50\n",
            "32/32 [==============================] - 0s 14ms/step - loss: 0.0850 - accuracy: 0.9807\n",
            "Epoch 45/50\n",
            "32/32 [==============================] - 0s 14ms/step - loss: 0.0932 - accuracy: 0.9807\n",
            "Epoch 46/50\n",
            "32/32 [==============================] - 1s 19ms/step - loss: 0.0871 - accuracy: 0.9904\n",
            "Epoch 47/50\n",
            "32/32 [==============================] - 0s 14ms/step - loss: 0.0918 - accuracy: 0.9807\n",
            "Epoch 48/50\n",
            "32/32 [==============================] - 0s 13ms/step - loss: 0.0792 - accuracy: 0.9904\n",
            "Epoch 49/50\n",
            "32/32 [==============================] - 0s 13ms/step - loss: 0.0609 - accuracy: 0.9871\n",
            "Epoch 50/50\n",
            "32/32 [==============================] - 0s 13ms/step - loss: 0.0752 - accuracy: 0.9871\n"
          ]
        },
        {
          "output_type": "execute_result",
          "data": {
            "text/plain": [
              "<keras.src.callbacks.History at 0x7ddee01ae560>"
            ]
          },
          "metadata": {},
          "execution_count": 3
        }
      ],
      "source": [
        "from tensorflow.keras.models import Sequential\n",
        "from tensorflow.keras.layers import Input, Embedding, LSTM, LayerNormalization, Dense, Dropout\n",
        "import numpy as np\n",
        "\n",
        "model = Sequential([\n",
        "          Input(shape=(X.shape[1],)),  # Fix: Added comma in the shape tuple\n",
        "          # Embedding layer\n",
        "\n",
        "          Embedding(input_dim=vacab_size + 1, output_dim=100),\n",
        "          # LSTM layers\n",
        "          LayerNormalization(),\n",
        "          LSTM(32, return_sequences=True),\n",
        "          LayerNormalization(),\n",
        "          LSTM(32, return_sequences=True),\n",
        "          LSTM(32),\n",
        "          LayerNormalization(),\n",
        "\n",
        "          # Dense layers\n",
        "          LayerNormalization(),\n",
        "          Dense(128, activation=\"relu\"),\n",
        "          Dropout(0.2),\n",
        "\n",
        "          LayerNormalization(),\n",
        "          Dense(128, activation=\"relu\"),\n",
        "          Dropout(0.2),\n",
        "          Dense(len(np.unique(y)), activation=\"softmax\")\n",
        "])\n",
        "\n",
        "\n",
        "model.compile(optimizer='adam', loss=\"sparse_categorical_crossentropy\", metrics=['accuracy'])\n",
        "\n",
        "model.fit(x=X, y=y, batch_size=10, epochs=50)"
      ]
    },
    {
      "cell_type": "markdown",
      "source": [
        "# Save Model"
      ],
      "metadata": {
        "id": "h9thlINFKa7w"
      }
    },
    {
      "cell_type": "code",
      "source": [
        "model.save(\"model1.h5\")"
      ],
      "metadata": {
        "colab": {
          "base_uri": "https://localhost:8080/"
        },
        "id": "cWfRCa4Bnkrh",
        "outputId": "b206adac-45a8-4c91-bd6a-6230be39aa52"
      },
      "execution_count": 4,
      "outputs": [
        {
          "output_type": "stream",
          "name": "stderr",
          "text": [
            "/usr/local/lib/python3.10/dist-packages/keras/src/engine/training.py:3079: UserWarning: You are saving your model as an HDF5 file via `model.save()`. This file format is considered legacy. We recommend using instead the native Keras format, e.g. `model.save('my_model.keras')`.\n",
            "  saving_api.save_model(\n"
          ]
        }
      ]
    },
    {
      "cell_type": "code",
      "source": [
        "import pickle\n",
        "\n",
        "with open('tokenizer.pkl', 'wb') as tokenizer_file:\n",
        "    pickle.dump(tokenizer, tokenizer_file)\n",
        "\n",
        "with open('maxlen.pkl', 'wb') as maxlen_file:\n",
        "    pickle.dump(X, maxlen_file)\n",
        "\n",
        "with open('lbl_enc.pkl', 'wb') as lbl_enc_file:\n",
        "    pickle.dump(lbl_enc, lbl_enc_file)"
      ],
      "metadata": {
        "id": "6PxhWGgK9_Od"
      },
      "execution_count": 5,
      "outputs": []
    },
    {
      "cell_type": "markdown",
      "source": [
        "# Model Testing"
      ],
      "metadata": {
        "id": "kQCCZAPPKgfK"
      }
    },
    {
      "cell_type": "code",
      "execution_count": 25,
      "metadata": {
        "colab": {
          "base_uri": "https://localhost:8080/"
        },
        "id": "WrtMMY-KNwez",
        "outputId": "e0b3347d-6d9b-4c3f-e435-52c97fb809c6"
      },
      "outputs": [
        {
          "output_type": "stream",
          "name": "stdout",
          "text": [
            "1/1 [==============================] - 0s 26ms/step\n",
            "you: Hai! Apa Kabar?\n",
            "model: Hai. Bagaimana perasaan Anda hari ini?\n"
          ]
        }
      ],
      "source": [
        "import re\n",
        "import random\n",
        "\n",
        "def generate_answer(pattern):\n",
        "    text = []\n",
        "    txt = re.sub('[^a-zA-Z\\']', ' ', pattern)\n",
        "    txt = txt.lower()\n",
        "    txt = txt.split()\n",
        "    txt = \" \".join(txt)\n",
        "    text.append(txt)\n",
        "\n",
        "    # Tokenize and pad the input sequence\n",
        "    x_test = tokenizer.texts_to_sequences(text)\n",
        "    x_test = pad_sequences(x_test, padding='post', maxlen=X.shape[1])\n",
        "\n",
        "    # Make predictions\n",
        "    y_pred = model.predict(x_test)\n",
        "    predicted_class = np.argmax(y_pred, axis=-1)\n",
        "    tag = lbl_enc.inverse_transform(predicted_class)[0]\n",
        "\n",
        "    # Get responses associated with the selected tag\n",
        "    responses = df[df['tag'] == tag]['responses'].values\n",
        "\n",
        "    if len(responses) > 0:\n",
        "        # If there are responses, choose a random one\n",
        "        response = random.choice(responses)\n",
        "        if isinstance(response, np.ndarray):\n",
        "            # Convert numpy array to string\n",
        "            response = response[0]\n",
        "    else:\n",
        "        # If no responses are found, provide a default message\n",
        "        response = \"Maafkan saya, saya tidak mengerti hal itu.\"\n",
        "\n",
        "    print(\"you: {}\".format(pattern))\n",
        "    print(\"model: {}\".format(response))\n",
        "\n",
        "generate_answer('Hai! Apa Kabar?')"
      ]
    },
    {
      "cell_type": "code",
      "source": [
        "generate_answer('Kamu siapa')"
      ],
      "metadata": {
        "colab": {
          "base_uri": "https://localhost:8080/"
        },
        "id": "2ZdOBOxYfkaI",
        "outputId": "d8ac68b2-4f17-40c1-addb-01f8b777ca5d"
      },
      "execution_count": 7,
      "outputs": [
        {
          "output_type": "stream",
          "name": "stdout",
          "text": [
            "1/1 [==============================] - 0s 25ms/step\n",
            "you: Kamu siapa\n",
            "model: ['Saya Kenari, Asisten AI Terapi Pribadi Anda. Bagaimana perasaan Anda hari ini', 'Saya Kenari, AI Terapi Asisten yang dirancang untuk membantu Anda. Ceritakan tentang diri Anda.', 'Saya Kenari. Saya adalah agen percakapan yang dirancang untuk meniru terapis. Jadi, bagaimana perasaan Anda hari ini?', 'Anda bisa memanggil saya Kenari.', 'Saya Kenari!', 'Panggil saya Kenari']\n"
          ]
        }
      ]
    },
    {
      "cell_type": "code",
      "source": [
        "generate_answer('Siapa yang menciptakanmu?')"
      ],
      "metadata": {
        "colab": {
          "base_uri": "https://localhost:8080/"
        },
        "id": "uGrydDpvXbbz",
        "outputId": "7a90ea20-6825-4433-e048-944d9b3a5567"
      },
      "execution_count": 8,
      "outputs": [
        {
          "output_type": "stream",
          "name": "stdout",
          "text": [
            "1/1 [==============================] - 0s 24ms/step\n",
            "you: Siapa yang menciptakanmu?\n",
            "model: ['Saya diciptakan oleh Tim CH2-PS130 Capstone Project Program Bangkit Academy 2023 Batch 2.', 'Saya dilatih menggunakan dataset teks dengan teknik Deep Learning & Natural Language Processing.', 'Saya diciptakan oleh Tim CH2-PS130 Capstone Project Program Bangkit Academy 2023 Batch 2. Saya dilatih menggunakan dataset teks dengan teknik Deep Learning & Natural Language Processing.']\n"
          ]
        }
      ]
    },
    {
      "cell_type": "code",
      "source": [
        "generate_answer('Saya pikir saya depresi.')"
      ],
      "metadata": {
        "colab": {
          "base_uri": "https://localhost:8080/"
        },
        "id": "hk96dvxNYN7z",
        "outputId": "b3070515-b9b3-406b-ad3a-896c7fc2bf37"
      },
      "execution_count": 9,
      "outputs": [
        {
          "output_type": "stream",
          "name": "stdout",
          "text": [
            "1/1 [==============================] - 0s 23ms/step\n",
            "you: Saya pikir saya depresi.\n",
            "model: ['Bicarakan tentang apa yang sedang terjadi. Anda akan baik-baik saja.', 'Bicaralah padaku. Ceritakan lebih banyak. Membuka diri kepada orang lain bisa membantu.', 'Terkadang ketika kita depresi, sulit untuk peduli tentang apapun. Sulit untuk melakukan hal-hal yang paling sederhana. Beri diri Anda waktu untuk sembuh.']\n"
          ]
        }
      ]
    }
  ],
  "metadata": {
    "kernelspec": {
      "display_name": "Python 3",
      "name": "python3"
    },
    "language_info": {
      "name": "python",
      "version": "3.8.0"
    },
    "colab": {
      "provenance": [],
      "gpuType": "T4"
    },
    "accelerator": "GPU"
  },
  "nbformat": 4,
  "nbformat_minor": 0
}